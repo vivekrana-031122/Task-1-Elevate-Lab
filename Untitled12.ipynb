{
  "nbformat": 4,
  "nbformat_minor": 0,
  "metadata": {
    "colab": {
      "provenance": [],
      "mount_file_id": "1_GakaVZwt6DLVRBG9e5ljdjyoS8XkjlQ",
      "authorship_tag": "ABX9TyMIoDz/WL/f0yQJ2bBYONth",
      "include_colab_link": true
    },
    "kernelspec": {
      "name": "python3",
      "display_name": "Python 3"
    },
    "language_info": {
      "name": "python"
    }
  },
  "cells": [
    {
      "cell_type": "markdown",
      "metadata": {
        "id": "view-in-github",
        "colab_type": "text"
      },
      "source": [
        "<a href=\"https://colab.research.google.com/github/vivekrana-031122/Task-1-Elevate-Lab/blob/main/Untitled12.ipynb\" target=\"_parent\"><img src=\"https://colab.research.google.com/assets/colab-badge.svg\" alt=\"Open In Colab\"/></a>"
      ]
    },
    {
      "cell_type": "code",
      "execution_count": null,
      "metadata": {
        "id": "5XjNp_S5sf4E"
      },
      "outputs": [],
      "source": [
        "import pandas as pd\n",
        "import numpy as np\n",
        "import matplotlib.pyplot as plt\n",
        "import seaborn as sns\n",
        "from sklearn.preprocessing import StandardScaler, MinMaxScaler\n",
        "\n",
        "# Load the dataset\n",
        "titanic = pd.read_csv('Titanic-Dataset.csv')"
      ]
    },
    {
      "cell_type": "code",
      "source": [
        "# Display basic info\n",
        "print(titanic.info())\n",
        "\n",
        "# Check for missing values\n",
        "print(titanic.isnull().sum())\n",
        "\n",
        "# Display summary statistics\n",
        "print(titanic.describe())"
      ],
      "metadata": {
        "colab": {
          "base_uri": "https://localhost:8080/"
        },
        "id": "p_9e5gv5s-G_",
        "outputId": "b2a2aa3b-546a-4b52-d127-55d4fb6ad266"
      },
      "execution_count": null,
      "outputs": [
        {
          "output_type": "stream",
          "name": "stdout",
          "text": [
            "<class 'pandas.core.frame.DataFrame'>\n",
            "RangeIndex: 891 entries, 0 to 890\n",
            "Data columns (total 12 columns):\n",
            " #   Column       Non-Null Count  Dtype  \n",
            "---  ------       --------------  -----  \n",
            " 0   PassengerId  891 non-null    int64  \n",
            " 1   Survived     891 non-null    int64  \n",
            " 2   Pclass       891 non-null    int64  \n",
            " 3   Name         891 non-null    object \n",
            " 4   Sex          891 non-null    object \n",
            " 5   Age          714 non-null    float64\n",
            " 6   SibSp        891 non-null    int64  \n",
            " 7   Parch        891 non-null    int64  \n",
            " 8   Ticket       891 non-null    object \n",
            " 9   Fare         891 non-null    float64\n",
            " 10  Cabin        204 non-null    object \n",
            " 11  Embarked     889 non-null    object \n",
            "dtypes: float64(2), int64(5), object(5)\n",
            "memory usage: 83.7+ KB\n",
            "None\n",
            "PassengerId      0\n",
            "Survived         0\n",
            "Pclass           0\n",
            "Name             0\n",
            "Sex              0\n",
            "Age            177\n",
            "SibSp            0\n",
            "Parch            0\n",
            "Ticket           0\n",
            "Fare             0\n",
            "Cabin          687\n",
            "Embarked         2\n",
            "dtype: int64\n",
            "       PassengerId    Survived      Pclass         Age       SibSp  \\\n",
            "count   891.000000  891.000000  891.000000  714.000000  891.000000   \n",
            "mean    446.000000    0.383838    2.308642   29.699118    0.523008   \n",
            "std     257.353842    0.486592    0.836071   14.526497    1.102743   \n",
            "min       1.000000    0.000000    1.000000    0.420000    0.000000   \n",
            "25%     223.500000    0.000000    2.000000   20.125000    0.000000   \n",
            "50%     446.000000    0.000000    3.000000   28.000000    0.000000   \n",
            "75%     668.500000    1.000000    3.000000   38.000000    1.000000   \n",
            "max     891.000000    1.000000    3.000000   80.000000    8.000000   \n",
            "\n",
            "            Parch        Fare  \n",
            "count  891.000000  891.000000  \n",
            "mean     0.381594   32.204208  \n",
            "std      0.806057   49.693429  \n",
            "min      0.000000    0.000000  \n",
            "25%      0.000000    7.910400  \n",
            "50%      0.000000   14.454200  \n",
            "75%      0.000000   31.000000  \n",
            "max      6.000000  512.329200  \n"
          ]
        }
      ]
    },
    {
      "cell_type": "code",
      "source": [
        "# Create a copy to avoid SettingWithCopyWarning\n",
        "titanic_clean = titanic.copy()\n",
        "\n",
        "# Fill Age with median (proper inplace operation)\n",
        "median_age = titanic_clean['Age'].median()\n",
        "titanic_clean['Age'] = titanic_clean['Age'].fillna(median_age)\n",
        "\n",
        "# Fill Embarked with mode (proper inplace operation)\n",
        "embarked_mode = titanic_clean['Embarked'].mode()[0]\n",
        "titanic_clean['Embarked'] = titanic_clean['Embarked'].fillna(embarked_mode)\n",
        "\n",
        "# Drop Cabin column only if it exists\n",
        "if 'Cabin' in titanic_clean.columns:\n",
        "    titanic_clean = titanic_clean.drop('Cabin', axis=1)\n",
        "\n",
        "# Verify no more missing values\n",
        "print(titanic_clean.isnull().sum())"
      ],
      "metadata": {
        "colab": {
          "base_uri": "https://localhost:8080/"
        },
        "id": "6TEPGy4LtWIb",
        "outputId": "ff98ae1e-34ae-4282-87e7-38be555be68b"
      },
      "execution_count": null,
      "outputs": [
        {
          "output_type": "stream",
          "name": "stdout",
          "text": [
            "PassengerId    0\n",
            "Survived       0\n",
            "Pclass         0\n",
            "Name           0\n",
            "Sex            0\n",
            "Age            0\n",
            "SibSp          0\n",
            "Parch          0\n",
            "Ticket         0\n",
            "Fare           0\n",
            "Embarked       0\n",
            "dtype: int64\n"
          ]
        }
      ]
    },
    {
      "cell_type": "code",
      "source": [
        "# One-hot encoding for Sex and Embarked (using pd.get_dummies)\n",
        "titanic_clean = pd.get_dummies(titanic_clean,\n",
        "                             columns=['Sex', 'Embarked'],\n",
        "                             drop_first=True,\n",
        "                             prefix=['Sex', 'Embarked'])\n",
        "\n",
        "# Label encoding for Pclass (ordinal feature)\n",
        "titanic_clean['Pclass'] = titanic_clean['Pclass'].astype('category').cat.codes"
      ],
      "metadata": {
        "id": "24xLSj5Qt8Tr"
      },
      "execution_count": null,
      "outputs": []
    },
    {
      "cell_type": "code",
      "source": [
        "# Initialize scalers\n",
        "scaler = StandardScaler()\n",
        "minmax = MinMaxScaler()\n",
        "\n",
        "# Select numerical features to scale\n",
        "num_features = ['Age', 'Fare', 'SibSp', 'Parch']\n",
        "\n",
        "# Create a copy of numerical features before scaling\n",
        "titanic_num = titanic_clean[num_features].copy()\n",
        "\n",
        "# Standard scaling (proper implementation)\n",
        "titanic_clean[num_features] = scaler.fit_transform(titanic_num)\n",
        "\n",
        "# Alternative: Min-max scaling\n",
        "# titanic_clean[num_features] = minmax.fit_transform(titanic_num)"
      ],
      "metadata": {
        "id": "A0qOi3EQuEcF"
      },
      "execution_count": null,
      "outputs": []
    },
    {
      "cell_type": "code",
      "source": [
        "# Visualize outliers using boxplots\n",
        "plt.figure(figsize=(15, 5))\n",
        "for i, col in enumerate(num_features):\n",
        "    plt.subplot(1, len(num_features), i+1)\n",
        "    sns.boxplot(y=titanic_clean[col])\n",
        "    plt.title(col)\n",
        "plt.tight_layout()\n",
        "plt.show()\n",
        "\n",
        "# Handle outliers in Fare using IQR method (proper implementation)\n",
        "def cap_outliers(df, col):\n",
        "    Q1 = df[col].quantile(0.25)\n",
        "    Q3 = df[col].quantile(0.75)\n",
        "    IQR = Q3 - Q1\n",
        "    lower_bound = Q1 - 1.5*IQR\n",
        "    upper_bound = Q3 + 1.5*IQR\n",
        "    return df[col].clip(lower_bound, upper_bound)\n",
        "\n",
        "titanic_clean['Fare'] = cap_outliers(titanic_clean, 'Fare')"
      ],
      "metadata": {
        "colab": {
          "base_uri": "https://localhost:8080/",
          "height": 398
        },
        "id": "7f-aPAMJuH-m",
        "outputId": "918aa2d3-917f-45ac-d7ea-4e9ee057a0f0"
      },
      "execution_count": null,
      "outputs": [
        {
          "output_type": "display_data",
          "data": {
            "text/plain": [
              "<Figure size 1500x500 with 4 Axes>"
            ],
            "image/png": "[encoded data removed]"
          },
          "metadata": {}
        }
      ]
    },
    {
      "cell_type": "code",
      "source": [
        "# Drop columns not needed for ML (using a list of columns to drop)\n",
        "cols_to_drop = ['PassengerId', 'Name', 'Ticket']\n",
        "titanic_clean = titanic_clean.drop(cols_to_drop, axis=1)\n",
        "\n",
        "# Save cleaned dataset\n",
        "titanic_clean.to_csv('titanic_clean_improved.csv', index=False)"
      ],
      "metadata": {
        "id": "SesLxogiuM5I"
      },
      "execution_count": null,
      "outputs": []
    }
  ]
}